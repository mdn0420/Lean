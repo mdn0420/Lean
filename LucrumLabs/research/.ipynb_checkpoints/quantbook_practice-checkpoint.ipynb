{
 "cells": [
  {
   "cell_type": "markdown",
   "metadata": {},
   "source": [
    "Experiment with QuantConnect's research environment\n",
    "\n",
    "https://www.quantconnect.com/docs/research/overview"
   ]
  },
  {
   "cell_type": "code",
   "execution_count": 1,
   "metadata": {},
   "outputs": [
    {
     "name": "stderr",
     "output_type": "stream",
     "text": [
      "/opt/miniconda3/lib/python3.6/site-packages/ipykernel_launcher.py:6: DeprecationWarning: The module was found, but not in a referenced namespace.\n",
      "Implicit loading is deprecated. Please use clr.AddReference('System.Memory').\n",
      "  \n",
      "In /opt/miniconda3/lib/python3.6/site-packages/matplotlib/mpl-data/stylelib/_classic_test.mplstyle: \n",
      "The text.latex.preview rcparam was deprecated in Matplotlib 3.3 and will be removed two minor releases later.\n",
      "In /opt/miniconda3/lib/python3.6/site-packages/matplotlib/mpl-data/stylelib/_classic_test.mplstyle: \n",
      "The mathtext.fallback_to_cm rcparam was deprecated in Matplotlib 3.3 and will be removed two minor releases later.\n",
      "In /opt/miniconda3/lib/python3.6/site-packages/matplotlib/mpl-data/stylelib/_classic_test.mplstyle: Support for setting the 'mathtext.fallback_to_cm' rcParam is deprecated since 3.3 and will be removed two minor releases later; use 'mathtext.fallback : 'cm' instead.\n",
      "In /opt/miniconda3/lib/python3.6/site-packages/matplotlib/mpl-data/stylelib/_classic_test.mplstyle: \n",
      "The validate_bool_maybe_none function was deprecated in Matplotlib 3.3 and will be removed two minor releases later.\n",
      "In /opt/miniconda3/lib/python3.6/site-packages/matplotlib/mpl-data/stylelib/_classic_test.mplstyle: \n",
      "The savefig.jpeg_quality rcparam was deprecated in Matplotlib 3.3 and will be removed two minor releases later.\n",
      "In /opt/miniconda3/lib/python3.6/site-packages/matplotlib/mpl-data/stylelib/_classic_test.mplstyle: \n",
      "The keymap.all_axes rcparam was deprecated in Matplotlib 3.3 and will be removed two minor releases later.\n",
      "In /opt/miniconda3/lib/python3.6/site-packages/matplotlib/mpl-data/stylelib/_classic_test.mplstyle: \n",
      "The animation.avconv_path rcparam was deprecated in Matplotlib 3.3 and will be removed two minor releases later.\n",
      "In /opt/miniconda3/lib/python3.6/site-packages/matplotlib/mpl-data/stylelib/_classic_test.mplstyle: \n",
      "The animation.avconv_args rcparam was deprecated in Matplotlib 3.3 and will be removed two minor releases later.\n"
     ]
    }
   ],
   "source": [
    "from clr import AddReference\n",
    "AddReference(\"System\")\n",
    "AddReference(\"QuantConnect.Common\")\n",
    "AddReference(\"QuantConnect.Research\")\n",
    "AddReference(\"QuantConnect.Indicators\")\n",
    "from System import *\n",
    "from QuantConnect import *\n",
    "from QuantConnect.Data.Market import TradeBar, QuoteBar\n",
    "from QuantConnect.Research import *\n",
    "from QuantConnect.Indicators import *\n",
    "from datetime import datetime, timedelta\n",
    "import matplotlib.pyplot as plt\n",
    "import pandas as pd\n",
    "\n",
    "# Create an instance\n",
    "qb = QuantBook()"
   ]
  },
  {
   "cell_type": "code",
   "execution_count": 2,
   "metadata": {},
   "outputs": [],
   "source": [
    "#eurusd = qb.AddForex(\"EURUSD\")\n",
    "usdjpy = qb.AddForex(\"USDJPY\")"
   ]
  },
  {
   "cell_type": "code",
   "execution_count": 15,
   "metadata": {},
   "outputs": [],
   "source": [
    "start_time = datetime(2018, 1, 1) # start datetime for history call\n",
    "end_time = datetime(2019, 1, 1) # end datetime for history call\n",
    "\n",
    "history = qb.History(qb.Securities.Keys, start_time, end_time, Resolution.Minute)"
   ]
  },
  {
   "cell_type": "code",
   "execution_count": 18,
   "metadata": {},
   "outputs": [
    {
     "data": {
      "text/html": [
       "<div>\n",
       "<style scoped>\n",
       "    .dataframe tbody tr th:only-of-type {\n",
       "        vertical-align: middle;\n",
       "    }\n",
       "\n",
       "    .dataframe tbody tr th {\n",
       "        vertical-align: top;\n",
       "    }\n",
       "\n",
       "    .dataframe thead th {\n",
       "        text-align: right;\n",
       "    }\n",
       "</style>\n",
       "<table border=\"1\" class=\"dataframe\">\n",
       "  <thead>\n",
       "    <tr style=\"text-align: right;\">\n",
       "      <th></th>\n",
       "      <th>open</th>\n",
       "      <th>high</th>\n",
       "      <th>low</th>\n",
       "      <th>close</th>\n",
       "    </tr>\n",
       "    <tr>\n",
       "      <th>time</th>\n",
       "      <th></th>\n",
       "      <th></th>\n",
       "      <th></th>\n",
       "      <th></th>\n",
       "    </tr>\n",
       "  </thead>\n",
       "  <tbody>\n",
       "    <tr>\n",
       "      <th>2018-01-01 12:00:00</th>\n",
       "      <td>112.6660</td>\n",
       "      <td>112.6825</td>\n",
       "      <td>112.5890</td>\n",
       "      <td>112.5915</td>\n",
       "    </tr>\n",
       "    <tr>\n",
       "      <th>2018-01-01 18:00:00</th>\n",
       "      <td>112.5915</td>\n",
       "      <td>112.7880</td>\n",
       "      <td>112.5915</td>\n",
       "      <td>112.7105</td>\n",
       "    </tr>\n",
       "    <tr>\n",
       "      <th>2018-01-02 00:00:00</th>\n",
       "      <td>112.7100</td>\n",
       "      <td>112.7365</td>\n",
       "      <td>112.1210</td>\n",
       "      <td>112.1335</td>\n",
       "    </tr>\n",
       "    <tr>\n",
       "      <th>2018-01-02 06:00:00</th>\n",
       "      <td>112.1390</td>\n",
       "      <td>112.2620</td>\n",
       "      <td>112.0770</td>\n",
       "      <td>112.1895</td>\n",
       "    </tr>\n",
       "    <tr>\n",
       "      <th>2018-01-02 12:00:00</th>\n",
       "      <td>112.1730</td>\n",
       "      <td>112.3565</td>\n",
       "      <td>112.1730</td>\n",
       "      <td>112.2305</td>\n",
       "    </tr>\n",
       "    <tr>\n",
       "      <th>...</th>\n",
       "      <td>...</td>\n",
       "      <td>...</td>\n",
       "      <td>...</td>\n",
       "      <td>...</td>\n",
       "    </tr>\n",
       "    <tr>\n",
       "      <th>2018-12-30 12:00:00</th>\n",
       "      <td>110.2990</td>\n",
       "      <td>110.3270</td>\n",
       "      <td>110.2990</td>\n",
       "      <td>110.3015</td>\n",
       "    </tr>\n",
       "    <tr>\n",
       "      <th>2018-12-30 18:00:00</th>\n",
       "      <td>110.3015</td>\n",
       "      <td>110.4715</td>\n",
       "      <td>110.3015</td>\n",
       "      <td>110.4165</td>\n",
       "    </tr>\n",
       "    <tr>\n",
       "      <th>2018-12-31 00:00:00</th>\n",
       "      <td>110.4100</td>\n",
       "      <td>110.4305</td>\n",
       "      <td>110.0110</td>\n",
       "      <td>110.0460</td>\n",
       "    </tr>\n",
       "    <tr>\n",
       "      <th>2018-12-31 06:00:00</th>\n",
       "      <td>110.0405</td>\n",
       "      <td>110.0600</td>\n",
       "      <td>109.6665</td>\n",
       "      <td>109.7040</td>\n",
       "    </tr>\n",
       "    <tr>\n",
       "      <th>2018-12-31 12:00:00</th>\n",
       "      <td>109.7045</td>\n",
       "      <td>109.7270</td>\n",
       "      <td>109.5635</td>\n",
       "      <td>109.5900</td>\n",
       "    </tr>\n",
       "  </tbody>\n",
       "</table>\n",
       "<p>1457 rows × 4 columns</p>\n",
       "</div>"
      ],
      "text/plain": [
       "                         open      high       low     close\n",
       "time                                                       \n",
       "2018-01-01 12:00:00  112.6660  112.6825  112.5890  112.5915\n",
       "2018-01-01 18:00:00  112.5915  112.7880  112.5915  112.7105\n",
       "2018-01-02 00:00:00  112.7100  112.7365  112.1210  112.1335\n",
       "2018-01-02 06:00:00  112.1390  112.2620  112.0770  112.1895\n",
       "2018-01-02 12:00:00  112.1730  112.3565  112.1730  112.2305\n",
       "...                       ...       ...       ...       ...\n",
       "2018-12-30 12:00:00  110.2990  110.3270  110.2990  110.3015\n",
       "2018-12-30 18:00:00  110.3015  110.4715  110.3015  110.4165\n",
       "2018-12-31 00:00:00  110.4100  110.4305  110.0110  110.0460\n",
       "2018-12-31 06:00:00  110.0405  110.0600  109.6665  109.7040\n",
       "2018-12-31 12:00:00  109.7045  109.7270  109.5635  109.5900\n",
       "\n",
       "[1457 rows x 4 columns]"
      ]
     },
     "execution_count": 18,
     "metadata": {},
     "output_type": "execute_result"
    }
   ],
   "source": [
    "# Consolidate/resample the data into different timeframe\n",
    "\n",
    "# Drop level 0 index (symbol index) from dataframe\n",
    "dropped = history.reset_index(level = 0, drop = True)\n",
    "#history.reset_index(level = 0, drop = True, inplace=True)\n",
    "\n",
    "close_prices = dropped[\"close\"]\n",
    "\n",
    "# 1D = 1 day\n",
    "# 1H = 1 hour\n",
    "# 5T = 5 minutes\n",
    "\n",
    "offset = \"6H\" \n",
    "consolidated = close_prices.resample(offset).ohlc()\n",
    "consolidated"
   ]
  },
  {
   "cell_type": "code",
   "execution_count": 13,
   "metadata": {},
   "outputs": [
    {
     "data": {
      "text/plain": [
       "time\n",
       "2018-01-01 17:01:00    112.6660\n",
       "2018-01-01 17:02:00    112.6760\n",
       "2018-01-01 17:03:00    112.6760\n",
       "2018-01-01 17:04:00    112.6540\n",
       "2018-01-01 17:05:00    112.6500\n",
       "                         ...   \n",
       "2018-12-31 16:56:00    109.6025\n",
       "2018-12-31 16:57:00    109.5950\n",
       "2018-12-31 16:58:00    109.5910\n",
       "2018-12-31 16:59:00    109.5955\n",
       "2018-12-31 17:00:00    109.5900\n",
       "Name: close, Length: 372840, dtype: float64"
      ]
     },
     "execution_count": 13,
     "metadata": {},
     "output_type": "execute_result"
    }
   ],
   "source": [
    "close_prices"
   ]
  },
  {
   "cell_type": "code",
   "execution_count": null,
   "metadata": {},
   "outputs": [],
   "source": []
  }
 ],
 "metadata": {
  "kernelspec": {
   "display_name": "Python 3",
   "language": "python",
   "name": "python3"
  },
  "language_info": {
   "codemirror_mode": {
    "name": "ipython",
    "version": 3
   },
   "file_extension": ".py",
   "mimetype": "text/x-python",
   "name": "python",
   "nbconvert_exporter": "python",
   "pygments_lexer": "ipython3",
   "version": "3.6.8"
  }
 },
 "nbformat": 4,
 "nbformat_minor": 4
}
